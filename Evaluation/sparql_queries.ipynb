{
 "cells": [
  {
   "cell_type": "code",
   "execution_count": 1,
   "id": "54aa4a0f",
   "metadata": {},
   "outputs": [],
   "source": [
    "#import Graph\n",
    "from rdflib import Graph"
   ]
  },
  {
   "cell_type": "code",
   "execution_count": 2,
   "id": "a256202a",
   "metadata": {},
   "outputs": [
    {
     "data": {
      "text/plain": [
       "<Graph identifier=N9596a3895b2743f198f6f3451c3097c8 (<class 'rdflib.graph.Graph'>)>"
      ]
     },
     "execution_count": 2,
     "metadata": {},
     "output_type": "execute_result"
    }
   ],
   "source": [
    "#create an rdf graph and parse the turtle file of the graph dataset\n",
    "qpGraph=Graph()\n",
    "file_path=\"C:/Users/USER/Documents/Projects/data_file.ttl\"\n",
    "qpGraph.parse(file_path)"
   ]
  },
  {
   "cell_type": "code",
   "execution_count": 3,
   "id": "8181ace8",
   "metadata": {},
   "outputs": [
    {
     "name": "stdout",
     "output_type": "stream",
     "text": [
      "Number of elements:831\n"
     ]
    }
   ],
   "source": [
    "#number of graph elements\n",
    "print(f\"Number of elements:{len(qpGraph)}\")"
   ]
  },
  {
   "cell_type": "code",
   "execution_count": 4,
   "id": "4ac3177d",
   "metadata": {},
   "outputs": [
    {
     "name": "stdout",
     "output_type": "stream",
     "text": [
      "material composition: In 0.53 Ga 0.47 As/Al 0.17In 0.52 Ga 0.31 As\n",
      "material composition: GaAs/Al0.15Ga0.85As\n"
     ]
    }
   ],
   "source": [
    "#Ontology Evaluation Queries\n",
    "#Sample queries for competency question 1\n",
    "#query 1.1\n",
    "#What is the possible heterostructure material composition(s) of a semi-conductor laser with a bound to continum design type?\n",
    "q1 = \"\"\"\n",
    "    PREFIX QpOnto:<https://github.com/DeperiasKerre/qcl_Onto/blob/main/qclontology/version-1.0/qclonto.owl#> \n",
    "    SELECT DISTINCT ?mat_composition\n",
    "WHERE\n",
    "{\n",
    " ?HS QpOnto:hasDesignType QpOnto:BoundToContinum;\n",
    "     QpOnto:hasMaterials ?HM.\n",
    " ?HM QpOnto:matFormula ?mat_composition.\n",
    "}\n",
    "\"\"\"\n",
    "# Apply the query to the graph and iterate through results\n",
    "for r in qpGraph.query(q1):\n",
    "    print(\"material composition:\",r[\"mat_composition\"])"
   ]
  },
  {
   "cell_type": "code",
   "execution_count": 5,
   "id": "70201516",
   "metadata": {},
   "outputs": [
    {
     "name": "stdout",
     "output_type": "stream",
     "text": [
      "sequence: 31/93/14/82/23/175/11/105/14/85/20/175/17/105 unit: https://qudt.org/vocab/unit/ANGSTROM\n",
      "sequence: 35/48/8/38.9/9/72/2/85.6/5/66 unit: https://qudt.org/vocab/unit/ANGSTROM\n",
      "sequence: 49/78/23/76/32/76/52/168 unit: https://qudt.org/vocab/unit/ANGSTROM\n",
      "sequence: 43/89/24.6/81.5/41/160 unit: https://qudt.org/vocab/unit/ANGSTROM\n",
      "sequence: 54/78/24/64/38/148/24/94 unit: https://qudt.org/vocab/unit/ANGSTROM\n",
      "sequence: 5.1/9.3/1.0/10.5/3.3/8.7/4.2/16.5 unit: https://qudt.org/vocab/unit/NanoM\n",
      "sequence: 2.0/20.3/2.0/3.0/14.4/1.0/13.5/3.0 unit: https://qudt.org/vocab/unit/NanoM\n"
     ]
    }
   ],
   "source": [
    "#What is the possible heterostructure layer sequence(s) of a semi-conductor laser with an LO Phonon design type?\n",
    "#query 1.2\n",
    "q2 = \"\"\"\n",
    "    PREFIX QpOnto:<https://github.com/DeperiasKerre/qcl_Onto/blob/main/qclontology/version-1.0/qclonto.owl#>\n",
    "    PREFIX qudt:<https://qudt.org/schema/qudt/>\n",
    "    SELECT ?seq ?unit\n",
    "WHERE\n",
    "{\n",
    " ?HS QpOnto:hasDesignType QpOnto:LOPhononDepopulation;\n",
    " QpOnto:hasLayerSequence ?ls.\n",
    " ?ls QpOnto:sequence ?seq;\n",
    "  qudt:hasUnit ?unit \n",
    "}\n",
    "\"\"\"\n",
    "# Apply the query to the graph and iterate through results\n",
    "for r in qpGraph.query(q2):\n",
    "    print(\"sequence:\",r[\"seq\"],\"unit:\", r[\"unit\"])"
   ]
  },
  {
   "cell_type": "code",
   "execution_count": 6,
   "id": "8f40e791",
   "metadata": {},
   "outputs": [
    {
     "name": "stdout",
     "output_type": "stream",
     "text": [
      "Design Type: https://github.com/DeperiasKerre/qcl_Onto/blob/main/qclontology/version-1.0/qclonto.owl#LOPhononDepopulation\n",
      "Design Type: https://github.com/DeperiasKerre/qcl_Onto/blob/main/qclontology/version-1.0/qclonto.owl#DoubleResonantPhonon\n",
      "Design Type: https://github.com/DeperiasKerre/qcl_Onto/blob/main/qclontology/version-1.0/qclonto.owl#BoundToContinum\n"
     ]
    }
   ],
   "source": [
    "#sample query for CQ 2\n",
    "#What is the design type for a heterostructure with material composition  GaAs/Al0.15Ga0.85As?\n",
    "#query 2.1\n",
    "q3 = \"\"\"\n",
    "    PREFIX QpOnto:<https://github.com/DeperiasKerre/qcl_Onto/blob/main/qclontology/version-1.0/qclonto.owl#>\n",
    "    SELECT DISTINCT ?design_type\n",
    "WHERE\n",
    "{\n",
    " ?HS QpOnto:hasDesignType ?design_type;\n",
    " QpOnto:hasMaterials ?HM.\n",
    " ?HM QpOnto:matFormula \"GaAs/Al0.15Ga0.85As\".\n",
    "}\n",
    "\"\"\"\n",
    "# Apply the query to the graph and iterate through results\n",
    "for r in qpGraph.query(q3):\n",
    "    print(\"Design Type:\",r[\"design_type\"])"
   ]
  },
  {
   "cell_type": "code",
   "execution_count": 7,
   "id": "8135b684",
   "metadata": {},
   "outputs": [
    {
     "name": "stdout",
     "output_type": "stream",
     "text": [
      "sequence: 49/78/23/76/32/76/52/168 unit: https://qudt.org/vocab/unit/ANGSTROM\n",
      "sequence: 43/89/24.6/81.5/41/160 unit: https://qudt.org/vocab/unit/ANGSTROM\n",
      "sequence: 9/79/25/66/41/156/33/90 unit: https://qudt.org/vocab/unit/ANGSTROM\n",
      "sequence: 4.24/8.48/3.11/11.02/2.54/7.91/4.24/16.67 unit: https://qudt.org/vocab/unit/NanoM\n",
      "sequence: 54/78/24/64/38/148/24/94 unit: https://qudt.org/vocab/unit/ANGSTROM\n",
      "sequence: 4.8/8.5/2.8/8.5/4.2/16.4 unit: https://qudt.org/vocab/unit/NanoM\n",
      "sequence: 5.5/11.0/1.8/11.5/3.8/9.4/4.2/18.4 unit: https://qudt.org/vocab/unit/NanoM\n",
      "sequence: 4.0/12/0.5/22.3/0.8/21.5/0.9/17.8/1/14.5/1.3/13.2?/2.2/13.4/2.8/17 unit: https://qudt.org/vocab/unit/NanoM\n",
      "sequence: 5.1/9.3/1.0/10.5/3.3/8.7/4.2/16.5 unit: https://qudt.org/vocab/unit/NanoM\n"
     ]
    }
   ],
   "source": [
    "#Sample query for competency question 3\n",
    "#query 3.1\n",
    "#what is the layer sequence(s) of a heterostructure with material composition GaAs/Al0.15Ga0.85As?\n",
    "q4 = \"\"\"\n",
    "    PREFIX QpOnto:<https://github.com/DeperiasKerre/qcl_Onto/blob/main/qclontology/version-1.0/qclonto.owl#> \n",
    "    PREFIX qudt:<https://qudt.org/schema/qudt/>\n",
    "    SELECT ?seq ?unit\n",
    "WHERE\n",
    "{\n",
    " ?HM QpOnto:matFormula \"GaAs/Al0.15Ga0.85As\".\n",
    " ?ls QpOnto:basedOnMaterials ?HM;\n",
    "  qudt:hasUnit ?unit; \n",
    "  QpOnto:sequence ?seq\n",
    "}\n",
    "\"\"\"\n",
    "# Apply the query to the graph and iterate through results\n",
    "for r in qpGraph.query(q4):\n",
    "    print(\"sequence:\",r[\"seq\"],\"unit:\", r[\"unit\"])"
   ]
  },
  {
   "cell_type": "code",
   "execution_count": 8,
   "id": "d28d8f1d",
   "metadata": {},
   "outputs": [
    {
     "name": "stdout",
     "output_type": "stream",
     "text": [
      "working temperature value: 95 unit: https://qudt.org/vocab/unit/K\n",
      "working temperature value: 178 unit: https://qudt.org/vocab/unit/K\n",
      "working temperature value: 45 unit: https://qudt.org/vocab/unit/K\n",
      "working temperature value: 105 unit: https://qudt.org/vocab/unit/K\n",
      "working temperature value: 210.5 unit: https://qudt.org/vocab/unit/K\n",
      "working temperature value: 186 unit: https://qudt.org/vocab/unit/K\n",
      "working temperature value: 151 unit: https://qudt.org/vocab/unit/K\n",
      "working temperature value: 100 unit: https://qudt.org/vocab/unit/K\n",
      "working temperature value: 60 unit: https://qudt.org/vocab/unit/K\n",
      "working temperature value: 150 unit: https://qudt.org/vocab/unit/K\n",
      "working temperature value: 142 unit: https://qudt.org/vocab/unit/K\n",
      "working temperature value: 195 unit: https://qudt.org/vocab/unit/K\n",
      "working temperature value: 200 unit: https://qudt.org/vocab/unit/K\n"
     ]
    }
   ],
   "source": [
    "#Sample query for competency question 4\n",
    "#Question 4.1\n",
    "#What are the operating temperatures of semiconductor laser devices working in a continous wave operation?\n",
    "q5 = \"\"\"\n",
    "    PREFIX QpOnto:<https://github.com/DeperiasKerre/qcl_Onto/blob/main/qclontology/version-1.0/qclonto.owl#>\n",
    "    PREFIX qudt:<https://qudt.org/schema/qudt/>\n",
    "    SELECT ?value ?unit \n",
    "WHERE\n",
    "{\n",
    " ?wt QpOnto:correspondsToWorkingMode QpOnto:ContinousWaveOperation;\n",
    " <https://qudt.org/schema/qudt#hasQuantityValue> ?qv.\n",
    " ?qv qudt:numericValue ?value;\n",
    " qudt:hasUnit ?unit.\n",
    "}\n",
    "\"\"\"\n",
    "# Apply the query to the graph and iterate through results\n",
    "for r in qpGraph.query(q5):\n",
    "    print(\"working temperature value:\", r[\"value\"],\"unit:\",r[\"unit\"])"
   ]
  },
  {
   "cell_type": "code",
   "execution_count": 9,
   "id": "9d4687bd",
   "metadata": {},
   "outputs": [
    {
     "name": "stdout",
     "output_type": "stream",
     "text": [
      "temperature value: 110 unit: https://qudt.org/vocab/unit/K\n",
      "temperature value: 144 unit: https://qudt.org/vocab/unit/K\n",
      "temperature value: 65 unit: https://qudt.org/vocab/unit/K\n",
      "temperature value: 85 unit: https://qudt.org/vocab/unit/K\n",
      "temperature value: 138 unit: https://qudt.org/vocab/unit/K\n"
     ]
    }
   ],
   "source": [
    "#What are the operating temperatures of semiconductor laser devices working in a pulse mode operation?\n",
    "#question 4.2\n",
    "q6 = \"\"\"\n",
    "    PREFIX QpOnto:<https://github.com/DeperiasKerre/qcl_Onto/blob/main/qclontology/version-1.0/qclonto.owl#>\n",
    "    PREFIX qudt:<https://qudt.org/schema/qudt/>\n",
    "    SELECT ?value ?unit \n",
    "WHERE\n",
    "{\n",
    " ?wt QpOnto:correspondsToWorkingMode QpOnto:PulsedOperation;\n",
    " <https://qudt.org/schema/qudt#hasQuantityValue> ?qv.\n",
    " ?qv qudt:numericValue ?value;\n",
    " qudt:hasUnit ?unit.\n",
    "}\n",
    "\"\"\"\n",
    "# Apply the query to the graph and iterate through results\n",
    "for r in qpGraph.query(q6):\n",
    "    print(\"temperature value:\",r[\"value\"], \"unit:\",r[\"unit\"])"
   ]
  },
  {
   "cell_type": "code",
   "execution_count": 10,
   "id": "872f9f2e",
   "metadata": {},
   "outputs": [
    {
     "name": "stdout",
     "output_type": "stream",
     "text": [
      "frequency value: 1.9 unit: https://qudt.org/vocab/unit/TeraHZ\n",
      "frequency value: 3.2 unit: https://qudt.org/vocab/unit/TeraHZ\n",
      "frequency value: 3 unit: https://qudt.org/vocab/unit/TeraHZ\n",
      "frequency value: 2.1 unit: https://qudt.org/vocab/unit/TeraHZ\n",
      "frequency value: 3.44 unit: https://qudt.org/vocab/unit/TeraHZ\n",
      "frequency value: 3.9 unit: https://qudt.org/vocab/unit/TeraHZ\n",
      "frequency value: 4.7 unit: https://qudt.org/vocab/unit/TeraHZ\n"
     ]
    }
   ],
   "source": [
    "#Sample query for competency question 5\n",
    "#question 5.1 \n",
    "#What is the lasing frequency of a semiconductor laser with a material composition GaAs/Al0.15Ga0.85As?\n",
    "q7 = \"\"\"\n",
    "    PREFIX QpOnto:<https://github.com/DeperiasKerre/qcl_Onto/blob/main/qclontology/version-1.0/qclonto.owl#>\n",
    "    PREFIX qudt:<https://qudt.org/schema/qudt/>\n",
    "    SELECT DISTINCT ?value ?unit\n",
    "WHERE\n",
    "{\n",
    " ?HM QpOnto:matFormula \"GaAs/Al0.15Ga0.85As\".\n",
    " ?HS QpOnto:hasMaterials ?HM.\n",
    "?lf QpOnto:relatesToHeterostructure ?HS;\n",
    "<https://qudt.org/schema/qudt#hasQuantityValue> ?qv.\n",
    " ?qv qudt:numericValue ?value;\n",
    " qudt:hasUnit ?unit.\n",
    " FILTER(?unit=<https://qudt.org/vocab/unit/TeraHZ>).\n",
    "}\n",
    "\"\"\"\n",
    "# Apply the query to the graph and iterate through results\n",
    "for r in qpGraph.query(q7):\n",
    "    if(\"none\" not in r[\"value\"]):\n",
    "        print(\"frequency value:\",r[\"value\"], \"unit:\",r[\"unit\"])"
   ]
  },
  {
   "cell_type": "code",
   "execution_count": 11,
   "id": "7d13f8eb",
   "metadata": {},
   "outputs": [
    {
     "name": "stdout",
     "output_type": "stream",
     "text": [
      "power value: 2.5 unit: https://qudt.org/vocab/unit/MilliW\n"
     ]
    }
   ],
   "source": [
    "#What is the output power of a semiconductor laser with a layer sequence of 54/78/24/64/38/148/24/94 Å\n",
    "#question 5.2\n",
    "q8 = \"\"\"\n",
    "    PREFIX QpOnto:<https://github.com/DeperiasKerre/qcl_Onto/blob/main/qclontology/version-1.0/qclonto.owl#>\n",
    "    PREFIX qudt:<https://qudt.org/schema/qudt/>\n",
    "    SELECT ?value ?unit\n",
    "WHERE\n",
    "{\n",
    " ?HS QpOnto:hasLayerSequence ?ls.\n",
    " ?ls QpOnto:sequence \"54/78/24/64/38/148/24/94\";\n",
    " qudt:hasUnit <https://qudt.org/vocab/unit/ANGSTROM>.\n",
    " ?op QpOnto:relatesToHeterostructure ?HS;\n",
    " <https://qudt.org/schema/qudt#hasQuantityValue> ?qv.\n",
    " ?qv qudt:numericValue ?value;\n",
    " qudt:hasUnit ?unit.\n",
    " FILTER(?unit=<https://qudt.org/vocab/unit/MilliW>).\n",
    "}\n",
    "\"\"\"\n",
    "for r in qpGraph.query(q8):\n",
    "        print(\"power value:\",r[\"value\"], \"unit:\",r[\"unit\"])"
   ]
  },
  {
   "cell_type": "code",
   "execution_count": 12,
   "id": "beacc014",
   "metadata": {},
   "outputs": [
    {
     "name": "stdout",
     "output_type": "stream",
     "text": [
      "material composition: GaAs/Al0.15Ga0.85As\n",
      "material composition: GaAs/Al0.25Ga0.75As\n",
      "material composition: In0.53Ga0.47As/GaAs0.51Sb0.49\n"
     ]
    }
   ],
   "source": [
    "#Sample query for competency question 6\n",
    "#question 6.1\n",
    "#What is the possible material composition for heterostructures with a lasing frequency greater than 3 THz?\n",
    "q9 = \"\"\"\n",
    "    PREFIX QpOnto:<https://github.com/DeperiasKerre/qcl_Onto/blob/main/qclontology/version-1.0/qclonto.owl#>\n",
    "    PREFIX qudt:<https://qudt.org/schema/qudt/>\n",
    "    SELECT DISTINCT ?mat_composition\n",
    "WHERE\n",
    "{\n",
    " ?lf <https://qudt.org/schema/qudt#hasQuantityValue> ?fv;\n",
    " QpOnto:relatesToHeterostructure ?HS.\n",
    " ?fv qudt:numericValue ?value;\n",
    " qudt:hasUnit ?unit.\n",
    " ?HS QpOnto:hasMaterials ?HM.\n",
    " ?HM QpOnto:matFormula ?mat_composition.\n",
    " FILTER(?unit=<https://qudt.org/vocab/unit/TeraHZ>&&?value>3).\n",
    "}\n",
    "\"\"\"\n",
    "for r in qpGraph.query(q9):\n",
    "        print(\"material composition:\",r[\"mat_composition\"])"
   ]
  },
  {
   "cell_type": "code",
   "execution_count": 13,
   "id": "39bbe24b",
   "metadata": {},
   "outputs": [
    {
     "name": "stdout",
     "output_type": "stream",
     "text": [
      "DOI: 10.1063/1.2189671 URL: https://www.doi.org/10.1063/1.2189671\n",
      "DOI: 10.1364/OE.16.003242 URL: https://www.doi.org/10.1364/OE.16.003242\n",
      "DOI: 10.1063/1.2737129 URL: https://www.doi.org/10.1063/1.2737129\n",
      "DOI: 10.1063/1.2216112 URL: https://www.doi.org/10.1063/1.2216112\n",
      "DOI: 10.1063/1.5110305 URL: https://www.doi.org/10.1063/1.5110305\n",
      "DOI: 10.1063/1.3114418 URL: https://www.doi.org/10.1063/1.3114418\n",
      "DOI: 10.1063/1.4862177 URL: https://www.doi.org/10.1063/1.4862177\n",
      "DOI: 10.1088/1367-2630/11/12/125022 URL: https://www.doi.org/10.1088/1367-2630/11/12/125022\n",
      "DOI: 10.1088/0256-307X/30/6/064201 URL: https://www.doi.org/10.1088/0256-307X/30/6/064201\n",
      "DOI: 10.1088/1367-2630/18/12/123004 URL: https://www.doi.org/10.1088/1367-2630/18/12/123004\n",
      "DOI: 10.1063/1.4766915 URL: https://www.doi.org/10.1063/1.4766915\n",
      "DOI: 10.1088/1367-2630/17/2/023050 URL: https://www.doi.org/10.1088/1367-2630/17/2/023050\n",
      "DOI: 10.1364/OE.20.003866 URL: https://www.doi.org/10.1364/OE.20.003866\n"
     ]
    }
   ],
   "source": [
    "#Sample query for competency question 7\n",
    "#question 7.1\n",
    "#What are the DOIs and URLs of scientific articles documenting semi-conductor laser devices with a working temperature greater than 40K at continous wave mode?\n",
    "q10 = \"\"\"\n",
    "    PREFIX QpOnto:<https://github.com/DeperiasKerre/qcl_Onto/blob/main/qclontology/version-1.0/qclonto.owl#>\n",
    "    PREFIX qudt:<https://qudt.org/schema/qudt/>\n",
    "    PREFIX prov:<http://www.w3.org/ns/prov#>\n",
    "    SELECT ?doi ?url\n",
    "WHERE\n",
    "{\n",
    "?qcl QpOnto:hasProperty ?wt;\n",
    "prov:wasAttributedTo ?article.\n",
    "?wt <https://qudt.org/schema/qudt#hasQuantityValue> ?qv;\n",
    "QpOnto:correspondsToWorkingMode QpOnto:ContinousWaveOperation.\n",
    "?qv qudt:numericValue ?value;\n",
    " qudt:hasUnit ?unit.\n",
    "?article QpOnto:DOI ?doi;\n",
    "QpOnto:URL ?url.\n",
    "FILTER(?unit=<https://qudt.org/vocab/unit/K>&&?value>40).\n",
    "}\n",
    "\"\"\"\n",
    "# Apply the query to the graph and iterate through results\n",
    "for r in qpGraph.query(q10):\n",
    "    print(\"DOI:\",r[\"doi\"],\"URL:\",r[\"url\"])"
   ]
  },
  {
   "cell_type": "code",
   "execution_count": 14,
   "id": "d245f2f6",
   "metadata": {},
   "outputs": [
    {
     "name": "stdout",
     "output_type": "stream",
     "text": [
      "DOI: 10.1063/1.2189671 URL: https://www.doi.org/10.1063/1.2189671\n",
      "DOI: 10.1364/OE.20.003866 URL: https://www.doi.org/10.1364/OE.20.003866\n",
      "DOI: 10.1364/OE.16.003242 URL: https://www.doi.org/10.1364/OE.16.003242\n",
      "DOI: 10.1364/OE.23.019689  URL: https://opg.optica.org/oe/fulltext.cfm?uri=oe-23-15-19689&id=323020\n",
      "DOI: 10.1063/1.1554479 URL: https://www.doi.org/10.1063/1.1554479\n",
      "DOI: 10.1063/1.3114418 URL: https://www.doi.org/10.1063/1.3114418\n",
      "DOI: 10.1088/1367-2630/11/12/125022 URL: https://www.doi.org/10.1088/1367-2630/11/12/125022\n",
      "DOI: 10.1088/0256-307X/30/6/064201 URL: https://www.doi.org/10.1088/0256-307X/30/6/064201\n",
      "DOI: 10.1088/1367-2630/18/12/123004 URL: https://www.doi.org/10.1088/1367-2630/18/12/123004\n"
     ]
    }
   ],
   "source": [
    "#question 7.2\n",
    "#What are the DOIs and URLs of scientific articles documenting semi-conductor lasers with a material composition of GaAs/Al0.15Ga0.85As?\n",
    "q11 = \"\"\"\n",
    "    PREFIX QpOnto:<https://github.com/DeperiasKerre/qcl_Onto/blob/main/qclontology/version-1.0/qclonto.owl#>\n",
    "    PREFIX qudt:<https://qudt.org/schema/qudt/>\n",
    "    PREFIX prov:<http://www.w3.org/ns/prov#>\n",
    "    SELECT ?doi ?url\n",
    "WHERE\n",
    "{\n",
    "?qcl QpOnto:hasHeterostructure ?HS;\n",
    "prov:wasAttributedTo ?article.\n",
    "?HS QpOnto:hasMaterials ?HM.\n",
    "?HM QpOnto:matFormula \"GaAs/Al0.15Ga0.85As\".\n",
    "?article QpOnto:DOI ?doi;\n",
    "QpOnto:URL ?url.\n",
    "}\n",
    "\"\"\"\n",
    "# Apply the query to the graph and iterate through results\n",
    "for r in qpGraph.query(q11):\n",
    "    print(\"DOI:\",r[\"doi\"],\"URL:\",r[\"url\"])"
   ]
  },
  {
   "cell_type": "code",
   "execution_count": 15,
   "id": "89237434",
   "metadata": {},
   "outputs": [
    {
     "name": "stdout",
     "output_type": "stream",
     "text": [
      "DOI: 10.1063/1.2216112 URL: https://www.doi.org/10.1063/1.2216112\n",
      "DOI: 10.1063/1.4862177 URL: https://www.doi.org/10.1063/1.4862177\n",
      "DOI: 10.1063/1.2189671 URL: https://www.doi.org/10.1063/1.2189671\n",
      "DOI: 10.1364/OE.20.003866 URL: https://www.doi.org/10.1364/OE.20.003866\n",
      "DOI: 10.1063/1.1554479 URL: https://www.doi.org/10.1063/1.1554479\n",
      "DOI: 10.1088/1367-2630/18/12/123004 URL: https://www.doi.org/10.1088/1367-2630/18/12/123004\n",
      "DOI: 10.1063/1.4766915 URL: https://www.doi.org/10.1063/1.4766915\n"
     ]
    }
   ],
   "source": [
    "#question 7.3\n",
    "#What are the DOIs and URLs of scientific articles documenting semi-conductor lasers with An LO Phonon Design Type?\n",
    "q12 = \"\"\"\n",
    "    PREFIX QpOnto:<https://github.com/DeperiasKerre/qcl_Onto/blob/main/qclontology/version-1.0/qclonto.owl#>\n",
    "    PREFIX qudt:<https://qudt.org/schema/qudt/>\n",
    "    PREFIX prov:<http://www.w3.org/ns/prov#>\n",
    "    SELECT ?doi ?url\n",
    "WHERE\n",
    "{\n",
    "?qcl QpOnto:hasHeterostructure ?HS;\n",
    "prov:wasAttributedTo ?article.\n",
    "?HS QpOnto:hasDesignType QpOnto:LOPhononDepopulation.\n",
    "?article QpOnto:DOI ?doi;\n",
    "QpOnto:URL ?url.\n",
    "}\n",
    "\"\"\"\n",
    "# Apply the query to the graph and iterate through results\n",
    "for r in qpGraph.query(q12):\n",
    "    print(\"DOI:\",r[\"doi\"],\"URL:\",r[\"url\"])"
   ]
  }
 ],
 "metadata": {
  "kernelspec": {
   "display_name": "Python 3 (ipykernel)",
   "language": "python",
   "name": "python3"
  },
  "language_info": {
   "codemirror_mode": {
    "name": "ipython",
    "version": 3
   },
   "file_extension": ".py",
   "mimetype": "text/x-python",
   "name": "python",
   "nbconvert_exporter": "python",
   "pygments_lexer": "ipython3",
   "version": "3.11.5"
  }
 },
 "nbformat": 4,
 "nbformat_minor": 5
}
