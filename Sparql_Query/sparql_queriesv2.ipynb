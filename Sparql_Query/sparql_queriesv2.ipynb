{
 "cells": [
  {
   "cell_type": "code",
   "execution_count": 1,
   "id": "cea080f5",
   "metadata": {},
   "outputs": [],
   "source": [
    "#import libraries\n",
    "import pandas as pd\n",
    "from rdflib import Graph, Literal, RDF, RDFS, URIRef, OWL"
   ]
  },
  {
   "cell_type": "code",
   "execution_count": 2,
   "id": "9fc06a6e",
   "metadata": {},
   "outputs": [
    {
     "data": {
      "text/plain": [
       "<Graph identifier=Nd43fdcbb62484d069ad83b322da93402 (<class 'rdflib.graph.Graph'>)>"
      ]
     },
     "execution_count": 2,
     "metadata": {},
     "output_type": "execute_result"
    }
   ],
   "source": [
    "#create an rdf graph and parse the turtle file of the graph dataset\n",
    "qpGraph=Graph()\n",
    "file_path=\"C:/Users/USER/Documents/Projects/data_file.ttl\"\n",
    "qpGraph.parse(file_path)"
   ]
  },
  {
   "cell_type": "code",
   "execution_count": 3,
   "id": "07f1ea8c",
   "metadata": {},
   "outputs": [
    {
     "name": "stdout",
     "output_type": "stream",
     "text": [
      "Number of elements:539\n"
     ]
    }
   ],
   "source": [
    "#number of graph elements\n",
    "print(f\"Number of elements:{len(qpGraph)}\")"
   ]
  },
  {
   "cell_type": "code",
   "execution_count": 4,
   "id": "71d41db8",
   "metadata": {},
   "outputs": [],
   "source": [
    "#Ontology Evaluation Queries\n",
    "#Sample queries for competency question 1\n",
    "#What is the heterostructure material composition of a semi-conductor laser with a bound to continum design type?\n",
    "#What is the heterostructure layer sequence  of a semi-conductor laser with a bound to continum design type?"
   ]
  },
  {
   "cell_type": "code",
   "execution_count": 5,
   "id": "e25fb9dc",
   "metadata": {},
   "outputs": [
    {
     "name": "stdout",
     "output_type": "stream",
     "text": [
      "sequence: 49/78/23/76/32/76/52/168 unit: https://qudt.org/vocab/unit/ANGSTROM\n",
      "sequence: 43/89/24.6/81.5/41/160 unit: https://qudt.org/vocab/unit/ANGSTROM\n",
      "sequence: 9/79/25/66/41/156/33/90 unit: https://qudt.org/vocab/unit/ANGSTROM\n",
      "sequence: 4.24/8.48/3.11/11.02/2.54/7.91/4.24/16.67 unit: https://qudt.org/vocab/unit/NanoM\n",
      "sequence: 54/78/24/64/38/148/24/94 unit: https://qudt.org/vocab/unit/ANGSTROM\n",
      "sequence: 4.8/8.5/2.8/8.5/4.2/16.4 unit: https://qudt.org/vocab/unit/NanoM\n",
      "sequence: 5.5/11.0/1.8/11.5/3.8/9.4/4.2/18.4 unit: https://qudt.org/vocab/unit/NanoM\n",
      "sequence: 4.0/12/0.5/22.3/0.8/21.5/0.9/17.8/1/14.5/1.3/13.2?/2.2/13.4/2.8/17 unit: https://qudt.org/vocab/unit/NanoM\n",
      "sequence: 5.1/9.3/1.0/10.5/3.3/8.7/4.2/16.5 unit: https://qudt.org/vocab/unit/NanoM\n"
     ]
    }
   ],
   "source": [
    "#Sample query for competency question 2\n",
    "#query 2.1\n",
    "#what is the layer sequence of a heterostructure with material composition GaAs/Al0.15Ga0.85As?\n",
    "q3 = \"\"\"\n",
    "    PREFIX QpOnto:<https://github.com/DeperiasKerre/qcl_Onto/blob/main/qclontology/version-1.0/qclonto.owl#> \n",
    "    PREFIX qudt:<http://qudt.org/schema/qudt/>\n",
    "    SELECT ?HM ?seq ?unit ?ls\n",
    "WHERE\n",
    "{\n",
    " ?HM QpOnto:matFormula \"GaAs/Al0.15Ga0.85As\".\n",
    " ?ls QpOnto:basedOnMaterials ?HM;\n",
    "  qudt:hasUnit ?unit; \n",
    "  QpOnto:sequence ?seq\n",
    "}\n",
    "\"\"\"\n",
    "# Apply the query to the graph and iterate through results\n",
    "for r in qpGraph.query(q3):\n",
    "    print(\"sequence:\",r[\"seq\"],\"unit:\", r[\"unit\"])"
   ]
  },
  {
   "cell_type": "code",
   "execution_count": 6,
   "id": "f1bee60c",
   "metadata": {},
   "outputs": [],
   "source": [
    "#Sample query for competency question 3\n",
    "#What are the operating temperatures of semiconductor laser devices working in a continous wave operation?\n",
    "#What are the operating temperatures of semiconductor laser devices working in a pulse mode operation?"
   ]
  },
  {
   "cell_type": "code",
   "execution_count": 7,
   "id": "e330dd51",
   "metadata": {},
   "outputs": [],
   "source": [
    "#Sample query for competency question 4\n",
    "#What is the lasing frequency of a semiconductor laser with a material composition GaAs/Al0.15Ga0.85As?\n",
    "#What is the output power of a semiconductor laser with a a layer sequence of 54/78/24/64/38/148/24/94 Å?"
   ]
  },
  {
   "cell_type": "code",
   "execution_count": 8,
   "id": "313fa204",
   "metadata": {},
   "outputs": [],
   "source": [
    "#Sample query for competency question 5"
   ]
  }
 ],
 "metadata": {
  "kernelspec": {
   "display_name": "Python 3 (ipykernel)",
   "language": "python",
   "name": "python3"
  },
  "language_info": {
   "codemirror_mode": {
    "name": "ipython",
    "version": 3
   },
   "file_extension": ".py",
   "mimetype": "text/x-python",
   "name": "python",
   "nbconvert_exporter": "python",
   "pygments_lexer": "ipython3",
   "version": "3.11.5"
  }
 },
 "nbformat": 4,
 "nbformat_minor": 5
}
